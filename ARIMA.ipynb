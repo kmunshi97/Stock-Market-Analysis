{
 "cells": [
  {
   "cell_type": "markdown",
   "metadata": {},
   "source": [
    "# Theory:\n",
    "\n",
    "<hr>\n",
    "\n",
    "<p> \n",
    "    <font color=\"tomato\">\n",
    "        Volume Weighted Average Price [VWAP]:\n",
    "    </font>\n",
    "    <br>\n",
    "    \n",
    "    It a technique used by stock traders to reduce the noise and find out the actual trends, \n",
    "    considering factors such as Volume and Rate.\n",
    "</p>\n",
    "\n",
    "\n",
    "<p> \n",
    "    <font color=\"tomato\">\n",
    "        Auto Regressive Integrated Moving Average [ARIMA]:\n",
    "    </font>\n",
    "    <br>\n",
    "    \n",
    "    ARIMA is a very popular statistical method for time series forecasting. \n",
    "    ARIMA models take into account the past values to predict the future values.\n",
    "    \n",
    "    There are three important parameters in ARIMA:\n",
    "        - p (past values used for forecasting the next value)\n",
    "        - q (past forecast errors used to predict the future values)\n",
    "        - d (order of differencing)\n",
    "</p>"
   ]
  },
  {
   "cell_type": "markdown",
   "metadata": {},
   "source": [
    "## Dataset:\n",
    "<hr>\n",
    "\n",
    "<p>\n",
    "    Dataset collected from National Stock Exchange [NSE].<br>\n",
    "    Link: https://www.nseindia.com/products/content/equities/equities/eq_security.htm\n",
    "    \n",
    "    Companies:\n",
    "        - Biocon\n",
    "        - Britannia\n",
    "        - Coal India\n",
    "        - Eicher Motors\n",
    "        - Heidelberg\n",
    "        - ICICI Bank\n",
    "        - ITC\n",
    "        - Maruti\n",
    "        - Priya Village Roadshow (PVR)\n",
    "        - SBI\n",
    "</p>"
   ]
  },
  {
   "cell_type": "markdown",
   "metadata": {},
   "source": [
    "\n",
    "# Code:\n",
    "<hr>"
   ]
  },
  {
   "cell_type": "markdown",
   "metadata": {},
   "source": [
    "### Global Variables:"
   ]
  },
  {
   "cell_type": "code",
   "execution_count": null,
   "metadata": {},
   "outputs": [],
   "source": [
    "rmseStock = {}"
   ]
  },
  {
   "cell_type": "markdown",
   "metadata": {},
   "source": [
    "### Imports and Global Settings:"
   ]
  },
  {
   "cell_type": "code",
   "execution_count": null,
   "metadata": {},
   "outputs": [],
   "source": [
    "# import packages### Helper Functions:\n",
    "import numpy as np\n",
    "import pandas as pd\n",
    "\n",
    "from pandas.plotting import register_matplotlib_converters\n",
    "register_matplotlib_converters()\n",
    "\n",
    "# to plot charts and figures\n",
    "import matplotlib.pyplot as plt\n",
    "%matplotlib inline\n"
   ]
  },
  {
   "cell_type": "code",
   "execution_count": null,
   "metadata": {},
   "outputs": [],
   "source": [
    "# Matplotlib setting to adjust the plot size\n",
    "from matplotlib.pylab import rcParams\n",
    "rcParams['figure.figsize'] = 20,10\n"
   ]
  },
  {
   "cell_type": "code",
   "execution_count": null,
   "metadata": {},
   "outputs": [],
   "source": [
    "# Importing the ARIMA Library\n",
    "from pmdarima.arima import auto_arima"
   ]
  },
  {
   "cell_type": "code",
   "execution_count": null,
   "metadata": {},
   "outputs": [],
   "source": [
    "# Data Normalisation\n",
    "from sklearn.preprocessing import MinMaxScaler\n",
    "scaler = MinMaxScaler(feature_range=(0, 1))\n"
   ]
  },
  {
   "cell_type": "markdown",
   "metadata": {},
   "source": [
    "### Helper Functions:"
   ]
  },
  {
   "cell_type": "code",
   "execution_count": null,
   "metadata": {},
   "outputs": [],
   "source": [
    "# Read the Dataset\n",
    "def readCSV(filename):\n",
    "    filename = \"Dataset\\\\\" + filename + \".csv\"\n",
    "    df = pd.read_csv(filename)\n",
    "    df = cleanDate(df)\n",
    "    return df    \n",
    "\n",
    "\n",
    "# Changing the date to a standard format [dd-mm-yy]\n",
    "def cleanDate(df):\n",
    "    df['Date'] = pd.to_datetime(df.Date,format='%d-%b-%Y')\n",
    "    df.index = df['Date']\n",
    "    return df\n",
    "    \n",
    "\n",
    "#     Helper function to plot VWAP for stocks\n",
    "def plotChart(df):\n",
    "    plt.figure(figsize=(24, 8))\n",
    "    plt.plot(df['Average Price'], label='VWAP')\n",
    "    plt.xlabel(\"Date\")\n",
    "    plt.ylabel(\"Volume Weighted Average Price\")\n",
    "    plt.legend()\n",
    "    \n",
    "    \n",
    "# Print the entire dataset\n",
    "def printEntireData(df):\n",
    "    print(df)\n",
    "    plotChart(df)\n",
    "    \n",
    "\n",
    "# Print a sample of the dataset\n",
    "def printSampleData(df):\n",
    "    length = len(df)\n",
    "    list = [0, 5, 6, 9, 10]\n",
    "    df1 = df[0:5]\n",
    "    print(df1[df1.columns[list]])\n",
    "    print(\".\\n.\\n.\")\n",
    "    df2 = df[987:]\n",
    "    print(df2[df2.columns[list]])\n",
    "    print(\"\\nDisplaying 10 out of {} rows.\".format(length))\n"
   ]
  },
  {
   "cell_type": "markdown",
   "metadata": {},
   "source": [
    "## Implementation of ARIMA model:\n",
    "\n",
    "<hr>"
   ]
  },
  {
   "cell_type": "code",
   "execution_count": null,
   "metadata": {
    "scrolled": false
   },
   "outputs": [],
   "source": [
    "def arimaModel(df, stock):\n",
    "    data = df.sort_index(ascending=True, axis=0)\n",
    "\n",
    "    # Total data: 992\n",
    "    endTrainingValue = 962\n",
    "    train = data[:endTrainingValue]\n",
    "    valid = data[endTrainingValue:]\n",
    "\n",
    "    predictionPeriod = len(data) - len(train)\n",
    "\n",
    "    training = train['Average Price']\n",
    "    validation = valid['Average Price']\n",
    "\n",
    "    model = auto_arima(training, start_p=1, start_q=1, max_p=3, max_q=3, m=12, start_P=0, seasonal=True, d=1, D=1, trace=True, error_action='ignore', suppress_warnings=True)\n",
    "    model.fit(training)\n",
    "\n",
    "    forecast = model.predict(n_periods = predictionPeriod)\n",
    "    forecast = pd.DataFrame(forecast, index = valid.index, columns=['Prediction'])\n",
    "\n",
    "    arimaModelError(valid, forecast, stock)\n",
    "    plotResult(train, valid, forecast, stock)\n"
   ]
  },
  {
   "cell_type": "code",
   "execution_count": null,
   "metadata": {},
   "outputs": [],
   "source": [
    "# Generating Root Mean Square Error (RMSE):\n",
    "def arimaModelError(valid, forecast, stock):\n",
    "    rms = np.sqrt(np.mean(np.power((np.array(valid['Average Price']) - np.array(forecast['Prediction'])),2)))\n",
    "    print(\"Root Mean Square Error: {}\".format(rms))\n",
    "    rmseStock[stock] = rms"
   ]
  },
  {
   "cell_type": "code",
   "execution_count": null,
   "metadata": {},
   "outputs": [],
   "source": [
    "# Helper Function to Plot the result of the ARIMA model\n",
    "def plotResult(train, valid, forecast, stock):\n",
    "    plt.figure(figsize=(24, 6))\n",
    "    plt.plot(train['Average Price'], label = \"Training Data VWAP\")\n",
    "    plt.plot(valid['Average Price'], label = \"Validation Data VWAP\")\n",
    "    plt.plot(forecast['Prediction'], label = \"Predicted VWAP\")\n",
    "    plt.title(stock, fontsize = 18)\n",
    "    plt.legend()\n"
   ]
  },
  {
   "cell_type": "markdown",
   "metadata": {},
   "source": [
    "### Reading the Dataset & Executing Models:"
   ]
  },
  {
   "cell_type": "code",
   "execution_count": null,
   "metadata": {
    "scrolled": false
   },
   "outputs": [],
   "source": [
    "stockList = ['BIOCON', 'BRITANNIA', 'COALINDIA', 'EICHERMOT', 'HEIDELBERG', 'ICICIBANK', 'ITC','MARUTI', 'PVR', 'SBIN']\n",
    "\n",
    "for stock in stockList:\n",
    "    df = readCSV(stock)\n",
    "    printSampleData(df)\n",
    "\n",
    "    # Applying Arima Model\n",
    "    print(\"Applying ARIMA Model on: {}\".format(stock))\n",
    "    arimaModel(df, stock)\n",
    "    "
   ]
  },
  {
   "cell_type": "code",
   "execution_count": null,
   "metadata": {},
   "outputs": [],
   "source": [
    "print(rmseStock)"
   ]
  },
  {
   "cell_type": "markdown",
   "metadata": {},
   "source": [
    "## Inference:"
   ]
  },
  {
   "cell_type": "markdown",
   "metadata": {},
   "source": [
    "For sectors which are seasonal such as Maruti (Automobile) and Priya Village Roadshow (Entertainment) the model couldn't fit properly and provided large RMS Error values.\n",
    "\n",
    "Whereas other sectors such as BIOCON (Pharmaceutical), CoalIndia (Mining), SBI & ICICI (Banking) provided acceptable RMS Error values."
   ]
  }
 ],
 "metadata": {
  "kernelspec": {
   "display_name": "TF_GPU",
   "language": "python",
   "name": "tf_gpu"
  },
  "language_info": {
   "codemirror_mode": {
    "name": "ipython",
    "version": 3
   },
   "file_extension": ".py",
   "mimetype": "text/x-python",
   "name": "python",
   "nbconvert_exporter": "python",
   "pygments_lexer": "ipython3",
   "version": "3.6.8"
  }
 },
 "nbformat": 4,
 "nbformat_minor": 2
}
