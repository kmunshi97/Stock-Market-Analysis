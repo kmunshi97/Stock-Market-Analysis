{
 "cells": [
  {
   "cell_type": "code",
   "execution_count": null,
   "metadata": {},
   "outputs": [],
   "source": [
    "from sklearn.preprocessing import MinMaxScaler\n",
    "from keras.models import Sequential\n",
    "from keras.layers import Dense, Dropout, LSTM\n"
   ]
  },
  {
   "cell_type": "code",
   "execution_count": 2,
   "metadata": {},
   "outputs": [],
   "source": [
    "# import packages### Helper Functions:\n",
    "import numpy as np\n",
    "import pandas as pd\n",
    "\n",
    "# to plot charts and figures\n",
    "import matplotlib.pyplot as plt\n",
    "%matplotlib inline\n"
   ]
  },
  {
   "cell_type": "code",
   "execution_count": 20,
   "metadata": {
    "scrolled": true
   },
   "outputs": [
    {
     "name": "stdout",
     "output_type": "stream",
     "text": [
      "            Symbol  High Price  Low Price  Average Price   Volume\n",
      "Date                                                             \n",
      "2015-04-13  BIOCON      491.80     468.15         481.59  2337764\n",
      "2015-04-15  BIOCON      495.70     474.45         486.89  1367669\n",
      "2015-04-16  BIOCON      482.40     463.00         470.99   917630\n",
      "2015-04-17  BIOCON      476.25     463.25         470.79   644312\n",
      "2015-04-20  BIOCON      469.90     445.40         456.25  1160262\n",
      ".\n",
      ".\n",
      ".\n",
      "            Symbol  High Price  Low Price  Average Price   Volume\n",
      "Date                                                             \n",
      "2019-04-05  BIOCON      615.75     610.10         612.58   622322\n",
      "2019-04-08  BIOCON      616.50     605.50         609.09   769326\n",
      "2019-04-09  BIOCON      619.90     603.55         614.15  1624259\n",
      "2019-04-10  BIOCON      636.75     613.80         627.68  2419841\n",
      "\n",
      "Displaying 10 out of 991 rows.\n"
     ]
    }
   ],
   "source": [
    "# Read the Dataset\n",
    "def readCSV(filename):\n",
    "    filename = \"Dataset\\\\\" + filename + \".csv\"\n",
    "    df = pd.read_csv(filename)\n",
    "    df = cleanDate(df)\n",
    "    return df    \n",
    "\n",
    "\n",
    "# Changing the date to a standard format [dd-mm-yy]\n",
    "def cleanDate(df):\n",
    "    df['Date'] = pd.to_datetime(df.Date,format='%d-%b-%Y')\n",
    "    df.index = df['Date']\n",
    "    return df\n",
    "    \n",
    "\n",
    "#     Helper function to plot VWAP for stocks\n",
    "def plotChart(df):\n",
    "    plt.figure(figsize=(24, 8))\n",
    "    plt.plot(df['Average Price'], label='VWAP')\n",
    "    plt.xlabel(\"Date\")\n",
    "    plt.ylabel(\"Volume Weighted Average Price\")\n",
    "    plt.legend()\n",
    "    \n",
    "    \n",
    "# Print the entire dataset\n",
    "def printEntireData(df):\n",
    "    print(df)\n",
    "    plotChart(df)\n",
    "    \n",
    "\n",
    "# Print a sample of the dataset\n",
    "def printSampleData(df):\n",
    "    length = len(df)\n",
    "    list = [0, 5, 6, 9, 10]\n",
    "    df1 = df[0:5]\n",
    "    print(df1[df1.columns[list]])\n",
    "    print(\".\\n.\\n.\")\n",
    "    df2 = df[987:]\n",
    "    print(df2[df2.columns[list]])\n",
    "    print(\"\\nDisplaying 10 out of {} rows.\".format(length))\n",
    "    \n",
    "    \n",
    "df = readCSV(\"BIOCON\")\n",
    "printSampleData(df)\n"
   ]
  },
  {
   "cell_type": "code",
   "execution_count": null,
   "metadata": {
    "scrolled": false
   },
   "outputs": [],
   "source": [
    "data = df\n",
    "\n",
    "df = pd.DataFrame(index=range(0,len(df)),columns=['Date', 'Average Price'])\n",
    "for i in range(0, len(data)):\n",
    "    df['Date'][i] = data['Date'][i].date()\n",
    "    df['Average Price'][i] = data['Average Price'][i]\n",
    "\n",
    "df.head()"
   ]
  },
  {
   "cell_type": "code",
   "execution_count": null,
   "metadata": {},
   "outputs": [],
   "source": [
    "df.index = df.Date\n",
    "df.drop('Date', axis=1, inplace=True)\n",
    "\n",
    "dataset = df.values\n",
    "\n",
    "train = dataset[0:len(dataset)-60,:]\n",
    "valid = dataset[len(dataset)-60:,:]\n",
    "\n",
    "scaler = MinMaxScaler(feature_range=(0, 1))\n",
    "scaled_data = scaler.fit_transform(dataset)\n",
    "\n",
    "x_train, y_train = [], []\n",
    "for i in range(60,len(train)):\n",
    "    x_train.append(scaled_data[i-60:i,0])\n",
    "    y_train.append(scaled_data[i,0])\n",
    "x_train, y_train = np.array(x_train), np.array(y_train)\n",
    "\n",
    "x_train = np.reshape(x_train, (x_train.shape[0],x_train.shape[1],1))\n"
   ]
  },
  {
   "cell_type": "code",
   "execution_count": null,
   "metadata": {},
   "outputs": [],
   "source": [
    "# create and fit the LSTM network\n",
    "model = Sequential()\n",
    "model.add(LSTM(units=50, return_sequences=True, input_shape=(x_train.shape[1],1)))\n",
    "model.add(LSTM(units=50))\n",
    "model.add(Dense(1))\n"
   ]
  },
  {
   "cell_type": "code",
   "execution_count": null,
   "metadata": {},
   "outputs": [],
   "source": [
    "model.compile(loss='mean_squared_error', optimizer='adam')\n",
    "model.fit(x_train, y_train, epochs=1, batch_size=1, verbose=2)\n"
   ]
  },
  {
   "cell_type": "code",
   "execution_count": null,
   "metadata": {},
   "outputs": [],
   "source": [
    "inputs = df[len(df) - len(valid) - 60:].values\n",
    "inputs = inputs.reshape(-1,1)\n",
    "inputs  = scaler.transform(inputs)\n",
    "\n",
    "X_test = []\n",
    "for i in range(60,inputs.shape[0]):\n",
    "    X_test.append(inputs[i-60:i,0])\n",
    "X_test = np.array(X_test)\n",
    "\n",
    "X_test = np.reshape(X_test, (X_test.shape[0],X_test.shape[1],1))\n",
    "avgPrice = model.predict(X_test)\n",
    "avgPrice = scaler.inverse_transform(avgPrice)"
   ]
  },
  {
   "cell_type": "code",
   "execution_count": null,
   "metadata": {},
   "outputs": [],
   "source": [
    "rms=np.sqrt(np.mean(np.power((valid-avgPrice),2)))\n",
    "rms"
   ]
  },
  {
   "cell_type": "code",
   "execution_count": null,
   "metadata": {
    "scrolled": false
   },
   "outputs": [],
   "source": [
    "train = df[:927]\n",
    "valid = df[927:]\n",
    "\n",
    "flag = np.zeros(shape=(927,1))\n",
    "result = np.append(flag, avgPrice)\n",
    "result[:927] = np.NaN\n",
    "\n",
    "# valid['Predictions'] = avgPrice\n",
    "plt.figure(figsize=(24, 10))\n",
    "plt.plot(train['Average Price'])\n",
    "plt.plot(valid['Average Price'])\n",
    "plt.plot(result)\n",
    "plt.legend()"
   ]
  },
  {
   "cell_type": "code",
   "execution_count": null,
   "metadata": {},
   "outputs": [],
   "source": []
  }
 ],
 "metadata": {
  "kernelspec": {
   "display_name": "TF_GPU",
   "language": "python",
   "name": "tf_gpu"
  },
  "language_info": {
   "codemirror_mode": {
    "name": "ipython",
    "version": 3
   },
   "file_extension": ".py",
   "mimetype": "text/x-python",
   "name": "python",
   "nbconvert_exporter": "python",
   "pygments_lexer": "ipython3",
   "version": "3.6.8"
  }
 },
 "nbformat": 4,
 "nbformat_minor": 2
}
